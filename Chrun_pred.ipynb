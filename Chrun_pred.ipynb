{
 "cells": [
  {
   "cell_type": "markdown",
   "metadata": {},
   "source": [
    "# Churn Prediction"
   ]
  },
  {
   "cell_type": "code",
   "execution_count": 439,
   "metadata": {},
   "outputs": [],
   "source": [
    "#Required Packages:\n",
    "\n",
    "import pandas as pd\n",
    "import numpy as np\n",
    "import matplotlib.pyplot as plt\n",
    "from sklearn.model_selection import train_test_split, cross_val_score, GridSearchCV, KFold\n",
    "from sklearn.preprocessing import OneHotEncoder, StandardScaler\n",
    "from sklearn.linear_model import LinearRegression, Ridge, Lasso, ElasticNet, LogisticRegression\n",
    "from sklearn.svm import LinearSVC\n",
    "from sklearn.neighbors import NearestCentroid\n",
    "from sklearn.compose import make_column_transformer\n",
    "from sklearn.pipeline import make_pipeline\n",
    "from collections import Counter\n",
    "from sklearn.metrics import classification_report\n",
    "\n",
    "import warnings\n",
    "warnings.filterwarnings('ignore')"
   ]
  },
  {
   "cell_type": "markdown",
   "metadata": {},
   "source": [
    "### Loading Data and cleaning data:\n",
    "Following intial assumptions where made for data cleaning and creating the predictive features:\n",
    "<br> 1- Customer_id does not contain any predictive information\n",
    "<br> 2- 'channel', 'geo', 'start_date', 'end_date', 'carrier', and 'profession' are categorical features used for prediction\n",
    "<br> 3- We are not using the cancelation reason as predditive feature. Although, it can be a good feature to for exploratory analysis, it cannot be a modeling attribute. Since we don't have it for active policies.                                      <br>4- The model is set up as a classification. The target value \"y\" can take values from 0-11 indicating the policy has ended in which month and value 12 showing that the policy is active.  "
   ]
  },
  {
   "cell_type": "code",
   "execution_count": 329,
   "metadata": {},
   "outputs": [
    {
     "name": "stdout",
     "output_type": "stream",
     "text": [
      "<class 'pandas._libs.tslibs.timestamps.Timestamp'>\n"
     ]
    },
    {
     "data": {
      "text/html": [
       "<div>\n",
       "<style scoped>\n",
       "    .dataframe tbody tr th:only-of-type {\n",
       "        vertical-align: middle;\n",
       "    }\n",
       "\n",
       "    .dataframe tbody tr th {\n",
       "        vertical-align: top;\n",
       "    }\n",
       "\n",
       "    .dataframe thead th {\n",
       "        text-align: right;\n",
       "    }\n",
       "</style>\n",
       "<table border=\"1\" class=\"dataframe\">\n",
       "  <thead>\n",
       "    <tr style=\"text-align: right;\">\n",
       "      <th></th>\n",
       "      <th>channel</th>\n",
       "      <th>geo</th>\n",
       "      <th>carrier</th>\n",
       "      <th>profession</th>\n",
       "    </tr>\n",
       "  </thead>\n",
       "  <tbody>\n",
       "    <tr>\n",
       "      <th>0</th>\n",
       "      <td>affiliation</td>\n",
       "      <td>CA</td>\n",
       "      <td>2</td>\n",
       "      <td>1000</td>\n",
       "    </tr>\n",
       "    <tr>\n",
       "      <th>1</th>\n",
       "      <td>affiliation</td>\n",
       "      <td>NY</td>\n",
       "      <td>2</td>\n",
       "      <td>1000</td>\n",
       "    </tr>\n",
       "    <tr>\n",
       "      <th>2</th>\n",
       "      <td>support</td>\n",
       "      <td>TX</td>\n",
       "      <td>7</td>\n",
       "      <td>5009</td>\n",
       "    </tr>\n",
       "    <tr>\n",
       "      <th>3</th>\n",
       "      <td>sem</td>\n",
       "      <td>OH</td>\n",
       "      <td>3</td>\n",
       "      <td>3000</td>\n",
       "    </tr>\n",
       "    <tr>\n",
       "      <th>4</th>\n",
       "      <td>email</td>\n",
       "      <td>MO</td>\n",
       "      <td>7</td>\n",
       "      <td>100001</td>\n",
       "    </tr>\n",
       "  </tbody>\n",
       "</table>\n",
       "</div>"
      ],
      "text/plain": [
       "       channel geo  carrier  profession\n",
       "0  affiliation  CA        2        1000\n",
       "1  affiliation  NY        2        1000\n",
       "2      support  TX        7        5009\n",
       "3          sem  OH        3        3000\n",
       "4        email  MO        7      100001"
      ]
     },
     "execution_count": 329,
     "metadata": {},
     "output_type": "execute_result"
    }
   ],
   "source": [
    "df = pd.read_csv('data_challenge_churn.csv', parse_dates = ['start_date','end_date'])\n",
    "predictive_features = ['channel', 'geo', 'carrier', 'profession']\n",
    "X = df[predictive_features]\n",
    "\n",
    "X.fillna('unk', inplace = True)\n",
    "\n",
    "df['diff_date'] = (df['end_date'] - df['start_date'])/np.timedelta64(1,'M')\n",
    "\n",
    "one_year_diff = df.diff_date.iloc[0]\n",
    "boo = df.diff_date == one_year_diff\n",
    "df.diff_date[boo] = 12\n",
    "y = np.floor(df.diff_date)\n",
    "\n",
    "print(type(df.start_date[1]))\n",
    "X.head()"
   ]
  },
  {
   "cell_type": "markdown",
   "metadata": {},
   "source": [
    "### Exploratory Data Analysis and Visulization and:\n",
    "Below is the histogram of the target variable y. This shows that we are dealing with an imbalanced data-set as most of the class \"12\" has clear maority. This means that the majority of the policy holders remains in the policy after one year.\n"
   ]
  },
  {
   "cell_type": "code",
   "execution_count": 438,
   "metadata": {},
   "outputs": [
    {
     "data": {
      "image/png": "[encoded data removed]",
      "text/plain": [
       "<Figure size 576x576 with 1 Axes>"
      ]
     },
     "metadata": {
      "needs_background": "light"
     },
     "output_type": "display_data"
    }
   ],
   "source": [
    "figure, ax = plt.subplots(figsize=(8,8))\n",
    "ax.set_xlabel(\"Churn Mounth\")  #x = 12 --> churn didn't occure\n",
    "ax.set_ylabel(\"Count\")\n",
    "ax.hist(y, bins = 13);\n",
    "figure.savefig(\"y_hist\", dpi=300)"
   ]
  },
  {
   "cell_type": "markdown",
   "metadata": {},
   "source": [
    "#### Since attribute is a categorical variable, it is important to know how many category each feature has. Following code shows this."
   ]
  },
  {
   "cell_type": "code",
   "execution_count": 331,
   "metadata": {},
   "outputs": [
    {
     "name": "stdout",
     "output_type": "stream",
     "text": [
      "Number of categories in feature channel = 17\n",
      "Number of categories in feature geo = 51\n",
      "Number of categories in feature carrier = 6\n",
      "Number of categories in feature profession = 53\n"
     ]
    }
   ],
   "source": [
    "for fea in X.keys():\n",
    "    print('Number of categories in feature ' + fea + ' = {:.0f}'.format(len(Counter(X[fea]))))\n",
    "    "
   ]
  },
  {
   "cell_type": "markdown",
   "metadata": {},
   "source": [
    "#### Following figures show the predictive features with respective to the target value. For the sake of visualization, the target value is shown only with two classes. For same reason, category profession is shown with numbers 1 to 50. "
   ]
  },
  {
   "cell_type": "code",
   "execution_count": 432,
   "metadata": {},
   "outputs": [
    {
     "data": {
      "image/png": "[encoded data removed]",
      "text/plain": [
       "<Figure size 576x576 with 1 Axes>"
      ]
     },
     "metadata": {
      "needs_background": "light"
     },
     "output_type": "display_data"
    },
    {
     "data": {
      "image/png": "[encoded data removed]",
      "text/plain": [
       "<Figure size 576x576 with 1 Axes>"
      ]
     },
     "metadata": {
      "needs_background": "light"
     },
     "output_type": "display_data"
    },
    {
     "data": {
      "image/png": "[encoded data removed]",
      "text/plain": [
       "<Figure size 576x576 with 1 Axes>"
      ]
     },
     "metadata": {
      "needs_background": "light"
     },
     "output_type": "display_data"
    },
    {
     "data": {
      "image/png": "[encoded data removed]",
      "text/plain": [
       "<Figure size 576x576 with 1 Axes>"
      ]
     },
     "metadata": {
      "needs_background": "light"
     },
     "output_type": "display_data"
    }
   ],
   "source": [
    "for val in range(4):\n",
    "    figure, ax = plt.subplots(1,1)\n",
    "    not_churned = []\n",
    "    churned = []\n",
    "    cat_list = X[X.keys()[val]].value_counts().keys()\n",
    "\n",
    "    for cat in cat_list:\n",
    "        comp = X[X.keys()[val]] == cat\n",
    "        A = np.sum(y[comp]==12)\n",
    "        B = np.sum(comp) \n",
    "        churned.append(A)                           \n",
    "        not_churned.append(B-A)\n",
    "        \n",
    "    if val==3: \n",
    "        cat_list = [i for i in range(1,54)]\n",
    "    \n",
    "    p1 = plt.barh(cat_list, not_churned, align='center', alpha=0.3)\n",
    "    p2 = plt.barh(cat_list, churned, left = not_churned, align='center', alpha=0.3) \n",
    "    fig = plt.gcf()\n",
    "    fig.set_size_inches(8,8)\n",
    "    plt.legend((p1[0],p2[0]),('churned','not churned'))\n",
    "    plt.title(X.keys()[val])\n",
    "    plt.tight_layout()\n",
    "    fig.savefig(str(val), dpi=300)\n",
    "    "
   ]
  },
  {
   "cell_type": "code",
   "execution_count": 346,
   "metadata": {},
   "outputs": [],
   "source": [
    "class ClassificationModel(object): \n",
    "    def __init__(self, X_num, X_cat, class_num):\n",
    "        global Pipeline, GridSearchCV\n",
    "        from sklearn.pipeline import Pipeline\n",
    "        from sklearn.model_selection import GridSearchCV\n",
    "        \n",
    "        self.GridSearchCV = GridSearchCV\n",
    "        self.Pipeline = Pipeline\n",
    "        self.X_num = X_num\n",
    "        self.X_cat = X_cat\n",
    "        self.class_num = class_num\n",
    "         \n",
    "    def preproccess(self):\n",
    "        from sklearn.preprocessing import OneHotEncoder, StandardScaler\n",
    "        from sklearn.compose import ColumnTransformer\n",
    "        numeric_transformer = Pipeline(steps=[('scaler', StandardScaler())])\n",
    "        categorical_one_hot_transformer = Pipeline(steps=[('onehot', OneHotEncoder(handle_unknown='ignore'))])\n",
    "        \n",
    "        self.preprocessor = ColumnTransformer(\n",
    "            transformers=[\n",
    "                ('num', numeric_transformer, self.X_num),\n",
    "                ('cat_onehot', categorical_one_hot_transformer, self.X_cat)])\n",
    "        \n",
    "        return self.preprocessor\n",
    "        \n",
    "    def LogisticRegressionBuilder(self,param_grid, scoring):\n",
    "        from sklearn.linear_model import LogisticRegression\n",
    "        \n",
    "        lr_pipe = Pipeline(steps=[('preprocessor', self.preproccess()),\n",
    "                              ('classifier', LogisticRegression(solver='lbfgs', multi_class='multinomial'))])\n",
    "        \n",
    "        lr_grid = GridSearchCV(lr_pipe, param_grid, cv=5, iid=False, scoring=scoring, n_jobs=-1)\n",
    "        \n",
    "        return lr_grid\n",
    "    \n",
    "    def RadndomForrestBuilder(self,param_grid,scoring):\n",
    "        from sklearn.ensemble import RandomForestClassifier\n",
    "\n",
    "        rf_pipe = Pipeline(steps=[('preprocessor', self.preprocessor),\n",
    "                     ('classifier', RandomForestClassifier(max_features = 'auto'))])\n",
    "\n",
    "        grid_rf = GridSearchCV(rf_pipe, param_grid, cv=5, scoring= scoring\n",
    "                               , n_jobs=-1)\n",
    "\n",
    "        return grid_rf"
   ]
  },
  {
   "cell_type": "code",
   "execution_count": 436,
   "metadata": {},
   "outputs": [
    {
     "name": "stdout",
     "output_type": "stream",
     "text": [
      "(30313, 4)\n",
      "(22734, 4)\n",
      "(7579, 4)\n"
     ]
    }
   ],
   "source": [
    "X_train, X_test, y_train, y_test= train_test_split(X,y, random_state=4)\n",
    "print(X.shape)\n",
    "print(X_train.shape)\n",
    "print(X_test.shape)"
   ]
  },
  {
   "cell_type": "markdown",
   "metadata": {},
   "source": [
    "### Since the dataset has class imbalance, the training data is oversampled "
   ]
  },
  {
   "cell_type": "code",
   "execution_count": 348,
   "metadata": {},
   "outputs": [],
   "source": [
    "from imblearn.over_sampling import RandomOverSampler\n",
    "\n",
    "ros = RandomOverSampler()\n",
    "X_train_oversample, y_train_oversample = ros.fit_sample(X_train, y_train)\n",
    "X_train_oversample = pd.DataFrame(X_train_oversample, columns = X.keys())"
   ]
  },
  {
   "cell_type": "code",
   "execution_count": 444,
   "metadata": {},
   "outputs": [
    {
     "data": {
      "text/plain": [
       "Counter({12.0: 17669,\n",
       "         2.0: 17669,\n",
       "         11.0: 17669,\n",
       "         0.0: 17669,\n",
       "         1.0: 17669,\n",
       "         4.0: 17669,\n",
       "         3.0: 17669,\n",
       "         8.0: 17669,\n",
       "         5.0: 17669,\n",
       "         6.0: 17669,\n",
       "         10.0: 17669,\n",
       "         9.0: 17669,\n",
       "         7.0: 17669})"
      ]
     },
     "execution_count": 444,
     "metadata": {},
     "output_type": "execute_result"
    }
   ],
   "source": [
    "class_names = ['class_'+str(i) for i in range(1,14)]\n",
    "Counter(y_train_oversample)"
   ]
  },
  {
   "cell_type": "markdown",
   "metadata": {},
   "source": [
    "#### Two Classification Models (Logistic Regression and RandomForrest), are tested and optimized for their hyperparameters.The trained classifiers are tested with the set aside test data. The test accuracy for logistic regression model on test set is 0.21 and the accuracy of the RandomForrest model for the test set is 0.28.  "
   ]
  },
  {
   "cell_type": "markdown",
   "metadata": {},
   "source": [
    "## Logistic Regression Builder"
   ]
  },
  {
   "cell_type": "code",
   "execution_count": 351,
   "metadata": {},
   "outputs": [
    {
     "name": "stdout",
     "output_type": "stream",
     "text": [
      "Best cross-validation Logistic 0.21\n",
      "Best parameters:{'classifier__C': 0.1}\n"
     ]
    }
   ],
   "source": [
    "X_num = []\n",
    "X_cat = X.keys()\n",
    "\n",
    "param_grid = {\n",
    "          'classifier__C': [.01, .1, 1, 10, 100, 1000],       \n",
    "}\n",
    "\n",
    "CM = ClassificationModel(X_num, X_cat, 13);\n",
    "grid_lr = CM.LogisticRegressionBuilder(param_grid, 'accuracy');\n",
    "grid_lr.fit(X_train_oversample,y_train_oversample)\n",
    "print (\"Best cross-validation Logistic {:.2f}\".format(grid_lr.best_score_))\n",
    "print (\"Best parameters:{}\".format(grid_lr.best_params_))"
   ]
  },
  {
   "cell_type": "markdown",
   "metadata": {},
   "source": [
    "### Classification Summary for Logistic Regression "
   ]
  },
  {
   "cell_type": "code",
   "execution_count": 457,
   "metadata": {},
   "outputs": [
    {
     "name": "stdout",
     "output_type": "stream",
     "text": [
      "Test Accuracy for LR model = 0.2188\n",
      "              precision    recall  f1-score   support\n",
      "\n",
      "     class_1       0.07      0.24      0.11       287\n",
      "     class_2       0.02      0.08      0.03       110\n",
      "     class_3       0.07      0.10      0.08       354\n",
      "     class_4       0.02      0.01      0.02       206\n",
      "     class_5       0.04      0.02      0.03       175\n",
      "     class_6       0.01      0.03      0.02       123\n",
      "     class_7       0.03      0.03      0.03       120\n",
      "     class_8       0.01      0.10      0.02        41\n",
      "     class_9       0.01      0.04      0.02        71\n",
      "    class_10       0.02      0.16      0.03        61\n",
      "    class_11       0.01      0.16      0.02        45\n",
      "    class_12       0.01      0.48      0.02        31\n",
      "    class_13       0.90      0.25      0.39      5955\n",
      "\n",
      "    accuracy                           0.22      7579\n",
      "   macro avg       0.09      0.13      0.06      7579\n",
      "weighted avg       0.72      0.22      0.32      7579\n",
      "\n"
     ]
    },
    {
     "data": {
      "text/plain": [
       "Counter({9.0: 1639,\n",
       "         12.0: 4985,\n",
       "         3.0: 577,\n",
       "         0.0: 2630,\n",
       "         10.0: 2078,\n",
       "         2.0: 1605,\n",
       "         11.0: 3930,\n",
       "         1.0: 1695,\n",
       "         5.0: 884,\n",
       "         4.0: 314,\n",
       "         6.0: 472,\n",
       "         8.0: 937,\n",
       "         7.0: 988})"
      ]
     },
     "execution_count": 457,
     "metadata": {},
     "output_type": "execute_result"
    }
   ],
   "source": [
    "print (\"Test Accuracy for LR model = {:.4f}\".format(grid_lr.score(X_test,y_test)))\n",
    "print(classification_report(y_test, grid_lr.predict(X_test), target_names=class_names))\n",
    "Counter(grid_lr.predict(X_train))"
   ]
  },
  {
   "cell_type": "markdown",
   "metadata": {},
   "source": [
    "##  RandomForrest Builder"
   ]
  },
  {
   "cell_type": "code",
   "execution_count": 353,
   "metadata": {},
   "outputs": [
    {
     "name": "stdout",
     "output_type": "stream",
     "text": [
      "Best cross-validation score Random Forrest 0.44\n",
      "Best parameters:{'classifier__max_depth': 80, 'classifier__max_features': 10, 'classifier__n_estimators': 100}\n"
     ]
    }
   ],
   "source": [
    "param_grid = {'classifier__max_depth': [5, 10, 20, 40, 80],\n",
    "               'classifier__max_features': [10],\n",
    "                'classifier__n_estimators': [100],\n",
    "             }\n",
    "grid_rf = CM.RadndomForrestBuilder(param_grid, scoring = 'accuracy')\n",
    "\n",
    "grid_rf.fit(X_train_oversample,y_train_oversample)\n",
    "print (\"Best cross-validation score Random Forrest {:.2f}\".format(grid_rf.best_score_))\n",
    "print (\"Best parameters:{}\".format(grid_rf.best_params_))"
   ]
  },
  {
   "cell_type": "markdown",
   "metadata": {},
   "source": [
    "### Classification Summary for RandomForrest"
   ]
  },
  {
   "cell_type": "code",
   "execution_count": 459,
   "metadata": {},
   "outputs": [
    {
     "name": "stdout",
     "output_type": "stream",
     "text": [
      "Test Accuracy for LR model = 0.2826\n",
      "              precision    recall  f1-score   support\n",
      "\n",
      "     class_1       0.10      0.18      0.13       287\n",
      "     class_2       0.01      0.03      0.01       110\n",
      "     class_3       0.07      0.08      0.08       354\n",
      "     class_4       0.03      0.06      0.04       206\n",
      "     class_5       0.06      0.09      0.07       175\n",
      "     class_6       0.02      0.05      0.02       123\n",
      "     class_7       0.04      0.12      0.05       120\n",
      "     class_8       0.01      0.12      0.03        41\n",
      "     class_9       0.02      0.10      0.03        71\n",
      "    class_10       0.02      0.15      0.03        61\n",
      "    class_11       0.01      0.18      0.03        45\n",
      "    class_12       0.01      0.26      0.02        31\n",
      "    class_13       0.86      0.33      0.48      5955\n",
      "\n",
      "    accuracy                           0.28      7579\n",
      "   macro avg       0.10      0.13      0.08      7579\n",
      "weighted avg       0.69      0.28      0.39      7579\n",
      "\n"
     ]
    }
   ],
   "source": [
    "print (\"Test Accuracy for LR model = {:.4f}\".format(grid_rf.score(X_test,y_test)))\n",
    "print(classification_report(y_test, grid_rf.predict(X_test), target_names=class_names))\n",
    "Counter(grid_rf.predict(X_train))\n",
    "a = classification_report(y_test, grid_rf.predict(X_test), target_names=class_names)"
   ]
  },
  {
   "cell_type": "markdown",
   "metadata": {},
   "source": [
    "### RMSE of predicted months"
   ]
  },
  {
   "cell_type": "code",
   "execution_count": 466,
   "metadata": {},
   "outputs": [
    {
     "name": "stdout",
     "output_type": "stream",
     "text": [
      "Root Mean Square Error Logistic Regression:545.3851849839707\n"
     ]
    }
   ],
   "source": [
    "y_pred = grid_lr.predict(X_test)\n",
    "rmse = (sum((y_pred-y_test.values)**2))**0.5\n",
    "print (\"Root Mean Square Error Logistic Regression:{}\".format(rmse)) "
   ]
  },
  {
   "cell_type": "code",
   "execution_count": 467,
   "metadata": {},
   "outputs": [
    {
     "name": "stdout",
     "output_type": "stream",
     "text": [
      "Root Mean Square Error RandomForrest:513.7197679669335\n"
     ]
    }
   ],
   "source": [
    "y_pred = grid_rf.predict(X_test)\n",
    "rmse = (sum((y_pred-y_test.values)**2))**0.5\n",
    "print (\"Root Mean Square Error RandomForrest:{}\".format(rmse)) "
   ]
  },
  {
   "cell_type": "markdown",
   "metadata": {},
   "source": [
    "### Predicted probabilities for the 13 classes using the two models"
   ]
  },
  {
   "cell_type": "code",
   "execution_count": 416,
   "metadata": {},
   "outputs": [
    {
     "data": {
      "text/html": [
       "<div>\n",
       "<style scoped>\n",
       "    .dataframe tbody tr th:only-of-type {\n",
       "        vertical-align: middle;\n",
       "    }\n",
       "\n",
       "    .dataframe tbody tr th {\n",
       "        vertical-align: top;\n",
       "    }\n",
       "\n",
       "    .dataframe thead th {\n",
       "        text-align: right;\n",
       "    }\n",
       "</style>\n",
       "<table border=\"1\" class=\"dataframe\">\n",
       "  <thead>\n",
       "    <tr style=\"text-align: right;\">\n",
       "      <th></th>\n",
       "      <th>1</th>\n",
       "      <th>2</th>\n",
       "      <th>3</th>\n",
       "      <th>4</th>\n",
       "      <th>5</th>\n",
       "      <th>6</th>\n",
       "      <th>7</th>\n",
       "      <th>8</th>\n",
       "      <th>9</th>\n",
       "      <th>10</th>\n",
       "      <th>11</th>\n",
       "      <th>12</th>\n",
       "      <th>13</th>\n",
       "    </tr>\n",
       "  </thead>\n",
       "  <tbody>\n",
       "    <tr>\n",
       "      <th>0</th>\n",
       "      <td>0.022471</td>\n",
       "      <td>0.030067</td>\n",
       "      <td>0.035862</td>\n",
       "      <td>0.052399</td>\n",
       "      <td>0.053897</td>\n",
       "      <td>0.071793</td>\n",
       "      <td>0.087370</td>\n",
       "      <td>0.115687</td>\n",
       "      <td>0.170110</td>\n",
       "      <td>0.167395</td>\n",
       "      <td>0.073379</td>\n",
       "      <td>0.036943</td>\n",
       "      <td>0.082627</td>\n",
       "    </tr>\n",
       "    <tr>\n",
       "      <th>1</th>\n",
       "      <td>0.132735</td>\n",
       "      <td>0.081857</td>\n",
       "      <td>0.282117</td>\n",
       "      <td>0.198163</td>\n",
       "      <td>0.034282</td>\n",
       "      <td>0.010317</td>\n",
       "      <td>0.001958</td>\n",
       "      <td>0.000275</td>\n",
       "      <td>0.000113</td>\n",
       "      <td>0.000117</td>\n",
       "      <td>0.000086</td>\n",
       "      <td>0.000277</td>\n",
       "      <td>0.257700</td>\n",
       "    </tr>\n",
       "    <tr>\n",
       "      <th>2</th>\n",
       "      <td>0.033268</td>\n",
       "      <td>0.045236</td>\n",
       "      <td>0.056327</td>\n",
       "      <td>0.059353</td>\n",
       "      <td>0.094452</td>\n",
       "      <td>0.072004</td>\n",
       "      <td>0.119568</td>\n",
       "      <td>0.099473</td>\n",
       "      <td>0.085762</td>\n",
       "      <td>0.055635</td>\n",
       "      <td>0.159721</td>\n",
       "      <td>0.071442</td>\n",
       "      <td>0.047758</td>\n",
       "    </tr>\n",
       "    <tr>\n",
       "      <th>3</th>\n",
       "      <td>0.015507</td>\n",
       "      <td>0.019470</td>\n",
       "      <td>0.053101</td>\n",
       "      <td>0.063592</td>\n",
       "      <td>0.048103</td>\n",
       "      <td>0.051237</td>\n",
       "      <td>0.069156</td>\n",
       "      <td>0.130973</td>\n",
       "      <td>0.086429</td>\n",
       "      <td>0.103722</td>\n",
       "      <td>0.163129</td>\n",
       "      <td>0.148505</td>\n",
       "      <td>0.047077</td>\n",
       "    </tr>\n",
       "    <tr>\n",
       "      <th>4</th>\n",
       "      <td>0.106415</td>\n",
       "      <td>0.125793</td>\n",
       "      <td>0.247300</td>\n",
       "      <td>0.181985</td>\n",
       "      <td>0.054487</td>\n",
       "      <td>0.064002</td>\n",
       "      <td>0.006080</td>\n",
       "      <td>0.000324</td>\n",
       "      <td>0.000037</td>\n",
       "      <td>0.000006</td>\n",
       "      <td>0.000087</td>\n",
       "      <td>0.000019</td>\n",
       "      <td>0.213466</td>\n",
       "    </tr>\n",
       "    <tr>\n",
       "      <th>5</th>\n",
       "      <td>0.091348</td>\n",
       "      <td>0.153794</td>\n",
       "      <td>0.058222</td>\n",
       "      <td>0.051538</td>\n",
       "      <td>0.084176</td>\n",
       "      <td>0.064086</td>\n",
       "      <td>0.110038</td>\n",
       "      <td>0.003671</td>\n",
       "      <td>0.097408</td>\n",
       "      <td>0.037104</td>\n",
       "      <td>0.089077</td>\n",
       "      <td>0.106984</td>\n",
       "      <td>0.052554</td>\n",
       "    </tr>\n",
       "    <tr>\n",
       "      <th>6</th>\n",
       "      <td>0.107188</td>\n",
       "      <td>0.238487</td>\n",
       "      <td>0.058670</td>\n",
       "      <td>0.059308</td>\n",
       "      <td>0.065452</td>\n",
       "      <td>0.038090</td>\n",
       "      <td>0.036625</td>\n",
       "      <td>0.000469</td>\n",
       "      <td>0.012119</td>\n",
       "      <td>0.019431</td>\n",
       "      <td>0.300427</td>\n",
       "      <td>0.020675</td>\n",
       "      <td>0.043060</td>\n",
       "    </tr>\n",
       "    <tr>\n",
       "      <th>7</th>\n",
       "      <td>0.115324</td>\n",
       "      <td>0.094027</td>\n",
       "      <td>0.129359</td>\n",
       "      <td>0.142889</td>\n",
       "      <td>0.040662</td>\n",
       "      <td>0.007814</td>\n",
       "      <td>0.037790</td>\n",
       "      <td>0.001379</td>\n",
       "      <td>0.322074</td>\n",
       "      <td>0.045763</td>\n",
       "      <td>0.030003</td>\n",
       "      <td>0.009653</td>\n",
       "      <td>0.023261</td>\n",
       "    </tr>\n",
       "    <tr>\n",
       "      <th>8</th>\n",
       "      <td>0.070612</td>\n",
       "      <td>0.097106</td>\n",
       "      <td>0.062800</td>\n",
       "      <td>0.041972</td>\n",
       "      <td>0.061154</td>\n",
       "      <td>0.072261</td>\n",
       "      <td>0.103411</td>\n",
       "      <td>0.129311</td>\n",
       "      <td>0.060174</td>\n",
       "      <td>0.049408</td>\n",
       "      <td>0.167031</td>\n",
       "      <td>0.038214</td>\n",
       "      <td>0.046545</td>\n",
       "    </tr>\n",
       "    <tr>\n",
       "      <th>9</th>\n",
       "      <td>0.120286</td>\n",
       "      <td>0.044166</td>\n",
       "      <td>0.027507</td>\n",
       "      <td>0.045093</td>\n",
       "      <td>0.071883</td>\n",
       "      <td>0.149692</td>\n",
       "      <td>0.036239</td>\n",
       "      <td>0.087808</td>\n",
       "      <td>0.209676</td>\n",
       "      <td>0.053181</td>\n",
       "      <td>0.033675</td>\n",
       "      <td>0.035939</td>\n",
       "      <td>0.084854</td>\n",
       "    </tr>\n",
       "  </tbody>\n",
       "</table>\n",
       "</div>"
      ],
      "text/plain": [
       "         1         2         3         4         5         6         7   \\\n",
       "0  0.022471  0.030067  0.035862  0.052399  0.053897  0.071793  0.087370   \n",
       "1  0.132735  0.081857  0.282117  0.198163  0.034282  0.010317  0.001958   \n",
       "2  0.033268  0.045236  0.056327  0.059353  0.094452  0.072004  0.119568   \n",
       "3  0.015507  0.019470  0.053101  0.063592  0.048103  0.051237  0.069156   \n",
       "4  0.106415  0.125793  0.247300  0.181985  0.054487  0.064002  0.006080   \n",
       "5  0.091348  0.153794  0.058222  0.051538  0.084176  0.064086  0.110038   \n",
       "6  0.107188  0.238487  0.058670  0.059308  0.065452  0.038090  0.036625   \n",
       "7  0.115324  0.094027  0.129359  0.142889  0.040662  0.007814  0.037790   \n",
       "8  0.070612  0.097106  0.062800  0.041972  0.061154  0.072261  0.103411   \n",
       "9  0.120286  0.044166  0.027507  0.045093  0.071883  0.149692  0.036239   \n",
       "\n",
       "         8         9         10        11        12        13  \n",
       "0  0.115687  0.170110  0.167395  0.073379  0.036943  0.082627  \n",
       "1  0.000275  0.000113  0.000117  0.000086  0.000277  0.257700  \n",
       "2  0.099473  0.085762  0.055635  0.159721  0.071442  0.047758  \n",
       "3  0.130973  0.086429  0.103722  0.163129  0.148505  0.047077  \n",
       "4  0.000324  0.000037  0.000006  0.000087  0.000019  0.213466  \n",
       "5  0.003671  0.097408  0.037104  0.089077  0.106984  0.052554  \n",
       "6  0.000469  0.012119  0.019431  0.300427  0.020675  0.043060  \n",
       "7  0.001379  0.322074  0.045763  0.030003  0.009653  0.023261  \n",
       "8  0.129311  0.060174  0.049408  0.167031  0.038214  0.046545  \n",
       "9  0.087808  0.209676  0.053181  0.033675  0.035939  0.084854  "
      ]
     },
     "execution_count": 416,
     "metadata": {},
     "output_type": "execute_result"
    }
   ],
   "source": [
    "pd.DataFrame(grid_lr.predict_proba(X_test)[0:10], columns = range(1,14))"
   ]
  },
  {
   "cell_type": "code",
   "execution_count": 417,
   "metadata": {},
   "outputs": [
    {
     "data": {
      "text/html": [
       "<div>\n",
       "<style scoped>\n",
       "    .dataframe tbody tr th:only-of-type {\n",
       "        vertical-align: middle;\n",
       "    }\n",
       "\n",
       "    .dataframe tbody tr th {\n",
       "        vertical-align: top;\n",
       "    }\n",
       "\n",
       "    .dataframe thead th {\n",
       "        text-align: right;\n",
       "    }\n",
       "</style>\n",
       "<table border=\"1\" class=\"dataframe\">\n",
       "  <thead>\n",
       "    <tr style=\"text-align: right;\">\n",
       "      <th></th>\n",
       "      <th>1</th>\n",
       "      <th>2</th>\n",
       "      <th>3</th>\n",
       "      <th>4</th>\n",
       "      <th>5</th>\n",
       "      <th>6</th>\n",
       "      <th>7</th>\n",
       "      <th>8</th>\n",
       "      <th>9</th>\n",
       "      <th>10</th>\n",
       "      <th>11</th>\n",
       "      <th>12</th>\n",
       "      <th>13</th>\n",
       "    </tr>\n",
       "  </thead>\n",
       "  <tbody>\n",
       "    <tr>\n",
       "      <th>0</th>\n",
       "      <td>0.000000</td>\n",
       "      <td>0.000000</td>\n",
       "      <td>0.137726</td>\n",
       "      <td>0.000000</td>\n",
       "      <td>0.000000</td>\n",
       "      <td>0.000000</td>\n",
       "      <td>0.000000</td>\n",
       "      <td>0.453968</td>\n",
       "      <td>0.385536</td>\n",
       "      <td>0.000000</td>\n",
       "      <td>0.000000</td>\n",
       "      <td>0.000000</td>\n",
       "      <td>0.022770</td>\n",
       "    </tr>\n",
       "    <tr>\n",
       "      <th>1</th>\n",
       "      <td>0.020000</td>\n",
       "      <td>0.000000</td>\n",
       "      <td>0.000000</td>\n",
       "      <td>0.020000</td>\n",
       "      <td>0.000000</td>\n",
       "      <td>0.000000</td>\n",
       "      <td>0.000000</td>\n",
       "      <td>0.000000</td>\n",
       "      <td>0.000000</td>\n",
       "      <td>0.000000</td>\n",
       "      <td>0.000000</td>\n",
       "      <td>0.000000</td>\n",
       "      <td>0.960000</td>\n",
       "    </tr>\n",
       "    <tr>\n",
       "      <th>2</th>\n",
       "      <td>0.010259</td>\n",
       "      <td>0.030683</td>\n",
       "      <td>0.059249</td>\n",
       "      <td>0.059135</td>\n",
       "      <td>0.113348</td>\n",
       "      <td>0.056070</td>\n",
       "      <td>0.105629</td>\n",
       "      <td>0.112590</td>\n",
       "      <td>0.082334</td>\n",
       "      <td>0.064770</td>\n",
       "      <td>0.191530</td>\n",
       "      <td>0.069069</td>\n",
       "      <td>0.045333</td>\n",
       "    </tr>\n",
       "    <tr>\n",
       "      <th>3</th>\n",
       "      <td>0.023025</td>\n",
       "      <td>0.037138</td>\n",
       "      <td>0.054058</td>\n",
       "      <td>0.039446</td>\n",
       "      <td>0.055324</td>\n",
       "      <td>0.016693</td>\n",
       "      <td>0.078442</td>\n",
       "      <td>0.282948</td>\n",
       "      <td>0.061116</td>\n",
       "      <td>0.099237</td>\n",
       "      <td>0.203837</td>\n",
       "      <td>0.000000</td>\n",
       "      <td>0.048738</td>\n",
       "    </tr>\n",
       "    <tr>\n",
       "      <th>4</th>\n",
       "      <td>0.000000</td>\n",
       "      <td>0.000000</td>\n",
       "      <td>0.000000</td>\n",
       "      <td>1.000000</td>\n",
       "      <td>0.000000</td>\n",
       "      <td>0.000000</td>\n",
       "      <td>0.000000</td>\n",
       "      <td>0.000000</td>\n",
       "      <td>0.000000</td>\n",
       "      <td>0.000000</td>\n",
       "      <td>0.000000</td>\n",
       "      <td>0.000000</td>\n",
       "      <td>0.000000</td>\n",
       "    </tr>\n",
       "    <tr>\n",
       "      <th>5</th>\n",
       "      <td>0.061847</td>\n",
       "      <td>0.273609</td>\n",
       "      <td>0.000000</td>\n",
       "      <td>0.137478</td>\n",
       "      <td>0.067112</td>\n",
       "      <td>0.000000</td>\n",
       "      <td>0.000000</td>\n",
       "      <td>0.000000</td>\n",
       "      <td>0.000000</td>\n",
       "      <td>0.000000</td>\n",
       "      <td>0.000000</td>\n",
       "      <td>0.437533</td>\n",
       "      <td>0.022420</td>\n",
       "    </tr>\n",
       "    <tr>\n",
       "      <th>6</th>\n",
       "      <td>0.150000</td>\n",
       "      <td>0.029630</td>\n",
       "      <td>0.240000</td>\n",
       "      <td>0.003056</td>\n",
       "      <td>0.006944</td>\n",
       "      <td>0.000000</td>\n",
       "      <td>0.000000</td>\n",
       "      <td>0.000000</td>\n",
       "      <td>0.000000</td>\n",
       "      <td>0.000000</td>\n",
       "      <td>0.000000</td>\n",
       "      <td>0.000000</td>\n",
       "      <td>0.570370</td>\n",
       "    </tr>\n",
       "    <tr>\n",
       "      <th>7</th>\n",
       "      <td>0.118394</td>\n",
       "      <td>0.000000</td>\n",
       "      <td>0.187062</td>\n",
       "      <td>0.000000</td>\n",
       "      <td>0.000000</td>\n",
       "      <td>0.000000</td>\n",
       "      <td>0.000000</td>\n",
       "      <td>0.000000</td>\n",
       "      <td>0.687348</td>\n",
       "      <td>0.000000</td>\n",
       "      <td>0.000000</td>\n",
       "      <td>0.000000</td>\n",
       "      <td>0.007196</td>\n",
       "    </tr>\n",
       "    <tr>\n",
       "      <th>8</th>\n",
       "      <td>0.103549</td>\n",
       "      <td>0.000000</td>\n",
       "      <td>0.265916</td>\n",
       "      <td>0.000000</td>\n",
       "      <td>0.000000</td>\n",
       "      <td>0.000000</td>\n",
       "      <td>0.000000</td>\n",
       "      <td>0.566094</td>\n",
       "      <td>0.000000</td>\n",
       "      <td>0.000000</td>\n",
       "      <td>0.000000</td>\n",
       "      <td>0.000000</td>\n",
       "      <td>0.064440</td>\n",
       "    </tr>\n",
       "    <tr>\n",
       "      <th>9</th>\n",
       "      <td>0.000000</td>\n",
       "      <td>0.000000</td>\n",
       "      <td>0.000000</td>\n",
       "      <td>0.000000</td>\n",
       "      <td>0.000000</td>\n",
       "      <td>0.000000</td>\n",
       "      <td>0.000000</td>\n",
       "      <td>0.000000</td>\n",
       "      <td>0.965997</td>\n",
       "      <td>0.000000</td>\n",
       "      <td>0.000000</td>\n",
       "      <td>0.000000</td>\n",
       "      <td>0.034003</td>\n",
       "    </tr>\n",
       "  </tbody>\n",
       "</table>\n",
       "</div>"
      ],
      "text/plain": [
       "         1         2         3         4         5         6         7   \\\n",
       "0  0.000000  0.000000  0.137726  0.000000  0.000000  0.000000  0.000000   \n",
       "1  0.020000  0.000000  0.000000  0.020000  0.000000  0.000000  0.000000   \n",
       "2  0.010259  0.030683  0.059249  0.059135  0.113348  0.056070  0.105629   \n",
       "3  0.023025  0.037138  0.054058  0.039446  0.055324  0.016693  0.078442   \n",
       "4  0.000000  0.000000  0.000000  1.000000  0.000000  0.000000  0.000000   \n",
       "5  0.061847  0.273609  0.000000  0.137478  0.067112  0.000000  0.000000   \n",
       "6  0.150000  0.029630  0.240000  0.003056  0.006944  0.000000  0.000000   \n",
       "7  0.118394  0.000000  0.187062  0.000000  0.000000  0.000000  0.000000   \n",
       "8  0.103549  0.000000  0.265916  0.000000  0.000000  0.000000  0.000000   \n",
       "9  0.000000  0.000000  0.000000  0.000000  0.000000  0.000000  0.000000   \n",
       "\n",
       "         8         9         10        11        12        13  \n",
       "0  0.453968  0.385536  0.000000  0.000000  0.000000  0.022770  \n",
       "1  0.000000  0.000000  0.000000  0.000000  0.000000  0.960000  \n",
       "2  0.112590  0.082334  0.064770  0.191530  0.069069  0.045333  \n",
       "3  0.282948  0.061116  0.099237  0.203837  0.000000  0.048738  \n",
       "4  0.000000  0.000000  0.000000  0.000000  0.000000  0.000000  \n",
       "5  0.000000  0.000000  0.000000  0.000000  0.437533  0.022420  \n",
       "6  0.000000  0.000000  0.000000  0.000000  0.000000  0.570370  \n",
       "7  0.000000  0.687348  0.000000  0.000000  0.000000  0.007196  \n",
       "8  0.566094  0.000000  0.000000  0.000000  0.000000  0.064440  \n",
       "9  0.000000  0.965997  0.000000  0.000000  0.000000  0.034003  "
      ]
     },
     "execution_count": 417,
     "metadata": {},
     "output_type": "execute_result"
    }
   ],
   "source": [
    "pd.DataFrame(grid_rf.predict_proba(X_test)[0:10], columns = range(1,14))"
   ]
  }
 ],
 "metadata": {
  "hide_input": false,
  "kernelspec": {
   "display_name": "Python 3",
   "language": "python",
   "name": "python3"
  },
  "language_info": {
   "codemirror_mode": {
    "name": "ipython",
    "version": 3
   },
   "file_extension": ".py",
   "mimetype": "text/x-python",
   "name": "python",
   "nbconvert_exporter": "python",
   "pygments_lexer": "ipython3",
   "version": "3.7.1"
  }
 },
 "nbformat": 4,
 "nbformat_minor": 2
}
