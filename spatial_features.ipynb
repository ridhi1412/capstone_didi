{
 "cells": [
  {
   "cell_type": "code",
   "execution_count": 5,
   "metadata": {},
   "outputs": [
    {
     "name": "stdout",
     "output_type": "stream",
     "text": [
      "The autoreload extension is already loaded. To reload it, use:\n",
      "  %reload_ext autoreload\n"
     ]
    }
   ],
   "source": [
    "%load_ext autoreload\n",
    "%autoreload 2\n",
    "\n",
    "import pandas as pd\n",
    "import numpy as np\n",
    "import utm\n",
    "import warnings\n",
    "warnings.filterwarnings('ignore')"
   ]
  },
  {
   "cell_type": "code",
   "execution_count": 127,
   "metadata": {},
   "outputs": [],
   "source": [
    "path = r'C:\\Users\\NiFa\\Desktop\\Data Science\\CapStone\\data\\Ride_Data_Cache'\n",
    "order_data = pd.read_msgpack(r'C:\\Users\\NiFa\\Desktop\\Data Science\\CapStone\\data\\Ride_Data_Cache\\order_20161102.msgpack')\n",
    "# gps_data = pd.read_msgpack(r'C:\\Users\\NiFa\\Desktop\\gps_data_utm_nov2.msgpack')"
   ]
  },
  {
   "cell_type": "code",
   "execution_count": 68,
   "metadata": {},
   "outputs": [
    {
     "data": {
      "text/html": [
       "<div>\n",
       "<style scoped>\n",
       "    .dataframe tbody tr th:only-of-type {\n",
       "        vertical-align: middle;\n",
       "    }\n",
       "\n",
       "    .dataframe tbody tr th {\n",
       "        vertical-align: top;\n",
       "    }\n",
       "\n",
       "    .dataframe thead th {\n",
       "        text-align: right;\n",
       "    }\n",
       "</style>\n",
       "<table border=\"1\" class=\"dataframe\">\n",
       "  <thead>\n",
       "    <tr style=\"text-align: right;\">\n",
       "      <th></th>\n",
       "      <th>driver_id</th>\n",
       "      <th>order_id</th>\n",
       "      <th>timestamp</th>\n",
       "      <th>longitude</th>\n",
       "      <th>latitude</th>\n",
       "      <th>utm_x</th>\n",
       "      <th>utm_y</th>\n",
       "    </tr>\n",
       "  </thead>\n",
       "  <tbody>\n",
       "    <tr>\n",
       "      <th>0</th>\n",
       "      <td>a739b90e4907fa30b0d6a3a3b39e67bb</td>\n",
       "      <td>982bf243c3202415d6252271b2693161</td>\n",
       "      <td>1478041352</td>\n",
       "      <td>104.10056</td>\n",
       "      <td>30.70907</td>\n",
       "      <td>413872.724770</td>\n",
       "      <td>3.397706e+06</td>\n",
       "    </tr>\n",
       "    <tr>\n",
       "      <th>1</th>\n",
       "      <td>a739b90e4907fa30b0d6a3a3b39e67bb</td>\n",
       "      <td>982bf243c3202415d6252271b2693161</td>\n",
       "      <td>1478041355</td>\n",
       "      <td>104.10040</td>\n",
       "      <td>30.70882</td>\n",
       "      <td>413857.180940</td>\n",
       "      <td>3.397678e+06</td>\n",
       "    </tr>\n",
       "    <tr>\n",
       "      <th>2</th>\n",
       "      <td>a739b90e4907fa30b0d6a3a3b39e67bb</td>\n",
       "      <td>982bf243c3202415d6252271b2693161</td>\n",
       "      <td>1478041358</td>\n",
       "      <td>104.10017</td>\n",
       "      <td>30.70846</td>\n",
       "      <td>413834.835993</td>\n",
       "      <td>3.397638e+06</td>\n",
       "    </tr>\n",
       "    <tr>\n",
       "      <th>3</th>\n",
       "      <td>a739b90e4907fa30b0d6a3a3b39e67bb</td>\n",
       "      <td>982bf243c3202415d6252271b2693161</td>\n",
       "      <td>1478041361</td>\n",
       "      <td>104.10001</td>\n",
       "      <td>30.70822</td>\n",
       "      <td>413819.300864</td>\n",
       "      <td>3.397612e+06</td>\n",
       "    </tr>\n",
       "    <tr>\n",
       "      <th>4</th>\n",
       "      <td>a739b90e4907fa30b0d6a3a3b39e67bb</td>\n",
       "      <td>982bf243c3202415d6252271b2693161</td>\n",
       "      <td>1478041364</td>\n",
       "      <td>104.09991</td>\n",
       "      <td>30.70806</td>\n",
       "      <td>413809.582479</td>\n",
       "      <td>3.397594e+06</td>\n",
       "    </tr>\n",
       "  </tbody>\n",
       "</table>\n",
       "</div>"
      ],
      "text/plain": [
       "                          driver_id                          order_id  \\\n",
       "0  a739b90e4907fa30b0d6a3a3b39e67bb  982bf243c3202415d6252271b2693161   \n",
       "1  a739b90e4907fa30b0d6a3a3b39e67bb  982bf243c3202415d6252271b2693161   \n",
       "2  a739b90e4907fa30b0d6a3a3b39e67bb  982bf243c3202415d6252271b2693161   \n",
       "3  a739b90e4907fa30b0d6a3a3b39e67bb  982bf243c3202415d6252271b2693161   \n",
       "4  a739b90e4907fa30b0d6a3a3b39e67bb  982bf243c3202415d6252271b2693161   \n",
       "\n",
       "    timestamp  longitude  latitude          utm_x         utm_y  \n",
       "0  1478041352  104.10056  30.70907  413872.724770  3.397706e+06  \n",
       "1  1478041355  104.10040  30.70882  413857.180940  3.397678e+06  \n",
       "2  1478041358  104.10017  30.70846  413834.835993  3.397638e+06  \n",
       "3  1478041361  104.10001  30.70822  413819.300864  3.397612e+06  \n",
       "4  1478041364  104.09991  30.70806  413809.582479  3.397594e+06  "
      ]
     },
     "execution_count": 68,
     "metadata": {},
     "output_type": "execute_result"
    }
   ],
   "source": [
    "gps_data.head()"
   ]
  },
  {
   "cell_type": "code",
   "execution_count": 69,
   "metadata": {},
   "outputs": [
    {
     "data": {
      "text/html": [
       "<div>\n",
       "<style scoped>\n",
       "    .dataframe tbody tr th:only-of-type {\n",
       "        vertical-align: middle;\n",
       "    }\n",
       "\n",
       "    .dataframe tbody tr th {\n",
       "        vertical-align: top;\n",
       "    }\n",
       "\n",
       "    .dataframe thead th {\n",
       "        text-align: right;\n",
       "    }\n",
       "</style>\n",
       "<table border=\"1\" class=\"dataframe\">\n",
       "  <thead>\n",
       "    <tr style=\"text-align: right;\">\n",
       "      <th></th>\n",
       "      <th>order_id</th>\n",
       "      <th>ride_start_timestamp</th>\n",
       "      <th>ride_stop_timestamp</th>\n",
       "      <th>pickup_longitude</th>\n",
       "      <th>pickup_latitude</th>\n",
       "      <th>dropoff_longitude</th>\n",
       "      <th>dropoff_latitude</th>\n",
       "    </tr>\n",
       "  </thead>\n",
       "  <tbody>\n",
       "    <tr>\n",
       "      <th>0</th>\n",
       "      <td>39d471630d26439111a7746d164d34eb</td>\n",
       "      <td>1478091677</td>\n",
       "      <td>1478092890</td>\n",
       "      <td>104.008160</td>\n",
       "      <td>30.706220</td>\n",
       "      <td>104.064147</td>\n",
       "      <td>30.685848</td>\n",
       "    </tr>\n",
       "    <tr>\n",
       "      <th>1</th>\n",
       "      <td>6681082cbcc11b37842489a096e2172e</td>\n",
       "      <td>1478093722</td>\n",
       "      <td>1478094806</td>\n",
       "      <td>104.053993</td>\n",
       "      <td>30.684104</td>\n",
       "      <td>104.015670</td>\n",
       "      <td>30.633230</td>\n",
       "    </tr>\n",
       "    <tr>\n",
       "      <th>2</th>\n",
       "      <td>56728c3d9555a452307d47986a773d9d</td>\n",
       "      <td>1478081351</td>\n",
       "      <td>1478082003</td>\n",
       "      <td>104.068120</td>\n",
       "      <td>30.708790</td>\n",
       "      <td>104.049720</td>\n",
       "      <td>30.704970</td>\n",
       "    </tr>\n",
       "    <tr>\n",
       "      <th>3</th>\n",
       "      <td>5b2724a9fd290d0388264fe07a9aec4c</td>\n",
       "      <td>1478082542</td>\n",
       "      <td>1478083418</td>\n",
       "      <td>104.059534</td>\n",
       "      <td>30.696013</td>\n",
       "      <td>104.034630</td>\n",
       "      <td>30.720960</td>\n",
       "    </tr>\n",
       "    <tr>\n",
       "      <th>4</th>\n",
       "      <td>0a2055d9c863e2f1963856d4d305ccd9</td>\n",
       "      <td>1478078909</td>\n",
       "      <td>1478080807</td>\n",
       "      <td>104.079048</td>\n",
       "      <td>30.796888</td>\n",
       "      <td>104.083284</td>\n",
       "      <td>30.705019</td>\n",
       "    </tr>\n",
       "  </tbody>\n",
       "</table>\n",
       "</div>"
      ],
      "text/plain": [
       "                           order_id  ride_start_timestamp  \\\n",
       "0  39d471630d26439111a7746d164d34eb            1478091677   \n",
       "1  6681082cbcc11b37842489a096e2172e            1478093722   \n",
       "2  56728c3d9555a452307d47986a773d9d            1478081351   \n",
       "3  5b2724a9fd290d0388264fe07a9aec4c            1478082542   \n",
       "4  0a2055d9c863e2f1963856d4d305ccd9            1478078909   \n",
       "\n",
       "   ride_stop_timestamp  pickup_longitude  pickup_latitude  dropoff_longitude  \\\n",
       "0           1478092890        104.008160        30.706220         104.064147   \n",
       "1           1478094806        104.053993        30.684104         104.015670   \n",
       "2           1478082003        104.068120        30.708790         104.049720   \n",
       "3           1478083418        104.059534        30.696013         104.034630   \n",
       "4           1478080807        104.079048        30.796888         104.083284   \n",
       "\n",
       "   dropoff_latitude  \n",
       "0         30.685848  \n",
       "1         30.633230  \n",
       "2         30.704970  \n",
       "3         30.720960  \n",
       "4         30.705019  "
      ]
     },
     "execution_count": 69,
     "metadata": {},
     "output_type": "execute_result"
    }
   ],
   "source": [
    "order_data.head()"
   ]
  },
  {
   "cell_type": "raw",
   "metadata": {},
   "source": [
    "Add UTM_X and UTM_Y to order data"
   ]
  },
  {
   "cell_type": "code",
   "execution_count": 128,
   "metadata": {},
   "outputs": [],
   "source": [
    "temp_pickup = order_data.apply(lambda x: utm.from_latlon(x['pickup_latitude'], x['pickup_longitude'])[0:2], axis=1)\n",
    "temp_drop = order_data.apply(lambda x: utm.from_latlon(x['dropoff_latitude'], x['dropoff_longitude'])[0:2], axis=1)"
   ]
  },
  {
   "cell_type": "code",
   "execution_count": 129,
   "metadata": {},
   "outputs": [],
   "source": [
    "order_data['xpickup'] = temp_pickup.apply(lambda x: x[0])\n",
    "order_data['ypickup'] = temp_pickup.apply(lambda x: x[1])\n",
    "\n",
    "order_data['xdropoff'] = temp_drop.apply(lambda x: x[0])\n",
    "order_data['ydropoff'] = temp_drop.apply(lambda x: x[1])"
   ]
  },
  {
   "cell_type": "code",
   "execution_count": 130,
   "metadata": {},
   "outputs": [],
   "source": [
    "orig_data = order_data"
   ]
  },
  {
   "cell_type": "code",
   "execution_count": 131,
   "metadata": {},
   "outputs": [],
   "source": [
    "grid_x_num = 40\n",
    "grid_y_num = 40"
   ]
  },
  {
   "cell_type": "code",
   "execution_count": 132,
   "metadata": {},
   "outputs": [],
   "source": [
    "tempx = pd.cut(order_data['xpickup'],bins = grid_x_num).astype(str)\n",
    "tempy = pd.cut(order_data['ypickup'],bins = grid_y_num).astype(str)\n",
    "order_data['pick_up_zone'] = tempx + tempy"
   ]
  },
  {
   "cell_type": "code",
   "execution_count": 133,
   "metadata": {},
   "outputs": [],
   "source": [
    "tempx = pd.cut(order_data['xdropoff'],bins = grid_x_num).astype(str)\n",
    "tempy = pd.cut(order_data['ydropoff'],bins = grid_y_num).astype(str)\n",
    "order_data['drop_off_zone'] = tempx + tempy"
   ]
  },
  {
   "cell_type": "code",
   "execution_count": 134,
   "metadata": {},
   "outputs": [],
   "source": [
    "drivers = gps_data[['driver_id', 'order_id']].drop_duplicates()\n",
    "order_data  = order_data.merge(drivers, on ='order_id', how='left')"
   ]
  },
  {
   "cell_type": "code",
   "execution_count": 135,
   "metadata": {},
   "outputs": [
    {
     "data": {
      "text/html": [
       "<div>\n",
       "<style scoped>\n",
       "    .dataframe tbody tr th:only-of-type {\n",
       "        vertical-align: middle;\n",
       "    }\n",
       "\n",
       "    .dataframe tbody tr th {\n",
       "        vertical-align: top;\n",
       "    }\n",
       "\n",
       "    .dataframe thead th {\n",
       "        text-align: right;\n",
       "    }\n",
       "</style>\n",
       "<table border=\"1\" class=\"dataframe\">\n",
       "  <thead>\n",
       "    <tr style=\"text-align: right;\">\n",
       "      <th></th>\n",
       "      <th>order_id</th>\n",
       "      <th>ride_start_timestamp</th>\n",
       "      <th>ride_stop_timestamp</th>\n",
       "      <th>pickup_longitude</th>\n",
       "      <th>pickup_latitude</th>\n",
       "      <th>dropoff_longitude</th>\n",
       "      <th>dropoff_latitude</th>\n",
       "      <th>xpickup</th>\n",
       "      <th>ypickup</th>\n",
       "      <th>xdropoff</th>\n",
       "      <th>ydropoff</th>\n",
       "      <th>pick_up_zone</th>\n",
       "      <th>drop_off_zone</th>\n",
       "      <th>driver_id</th>\n",
       "    </tr>\n",
       "  </thead>\n",
       "  <tbody>\n",
       "    <tr>\n",
       "      <th>0</th>\n",
       "      <td>39d471630d26439111a7746d164d34eb</td>\n",
       "      <td>1478091677</td>\n",
       "      <td>1478092890</td>\n",
       "      <td>104.008160</td>\n",
       "      <td>30.706220</td>\n",
       "      <td>104.064147</td>\n",
       "      <td>30.685848</td>\n",
       "      <td>405021.620476</td>\n",
       "      <td>3.397464e+06</td>\n",
       "      <td>410364.332827</td>\n",
       "      <td>3.395160e+06</td>\n",
       "      <td>(404880.67, 407264.234](3396021.364, 3397779.732]</td>\n",
       "      <td>(409718.164, 417579.349](3393567.88, 3480582.442]</td>\n",
       "      <td>af17fba73f06db61f7596163eac1eb73</td>\n",
       "    </tr>\n",
       "    <tr>\n",
       "      <th>1</th>\n",
       "      <td>6681082cbcc11b37842489a096e2172e</td>\n",
       "      <td>1478093722</td>\n",
       "      <td>1478094806</td>\n",
       "      <td>104.053993</td>\n",
       "      <td>30.684104</td>\n",
       "      <td>104.015670</td>\n",
       "      <td>30.633230</td>\n",
       "      <td>409390.115174</td>\n",
       "      <td>3.394975e+06</td>\n",
       "      <td>405669.915408</td>\n",
       "      <td>3.389369e+06</td>\n",
       "      <td>(407264.234, 409647.798](3394262.995, 3396021....</td>\n",
       "      <td>(401856.98, 409718.164](3306553.319, 3393567.88]</td>\n",
       "      <td>af17fba73f06db61f7596163eac1eb73</td>\n",
       "    </tr>\n",
       "    <tr>\n",
       "      <th>2</th>\n",
       "      <td>56728c3d9555a452307d47986a773d9d</td>\n",
       "      <td>1478081351</td>\n",
       "      <td>1478082003</td>\n",
       "      <td>104.068120</td>\n",
       "      <td>30.708790</td>\n",
       "      <td>104.049720</td>\n",
       "      <td>30.704970</td>\n",
       "      <td>410765.994637</td>\n",
       "      <td>3.397700e+06</td>\n",
       "      <td>409000.403342</td>\n",
       "      <td>3.397291e+06</td>\n",
       "      <td>(409647.798, 412031.361](3396021.364, 3397779....</td>\n",
       "      <td>(401856.98, 409718.164](3393567.88, 3480582.442]</td>\n",
       "      <td>ae8221abe491455c7c0bedb0f00d6e8a</td>\n",
       "    </tr>\n",
       "    <tr>\n",
       "      <th>3</th>\n",
       "      <td>5b2724a9fd290d0388264fe07a9aec4c</td>\n",
       "      <td>1478082542</td>\n",
       "      <td>1478083418</td>\n",
       "      <td>104.059534</td>\n",
       "      <td>30.696013</td>\n",
       "      <td>104.034630</td>\n",
       "      <td>30.720960</td>\n",
       "      <td>409931.921294</td>\n",
       "      <td>3.396291e+06</td>\n",
       "      <td>407570.558398</td>\n",
       "      <td>3.399076e+06</td>\n",
       "      <td>(409647.798, 412031.361](3396021.364, 3397779....</td>\n",
       "      <td>(401856.98, 409718.164](3393567.88, 3480582.442]</td>\n",
       "      <td>ae8221abe491455c7c0bedb0f00d6e8a</td>\n",
       "    </tr>\n",
       "    <tr>\n",
       "      <th>4</th>\n",
       "      <td>0a2055d9c863e2f1963856d4d305ccd9</td>\n",
       "      <td>1478078909</td>\n",
       "      <td>1478080807</td>\n",
       "      <td>104.079048</td>\n",
       "      <td>30.796888</td>\n",
       "      <td>104.083284</td>\n",
       "      <td>30.705019</td>\n",
       "      <td>411892.725646</td>\n",
       "      <td>3.407455e+06</td>\n",
       "      <td>412214.698706</td>\n",
       "      <td>3.397270e+06</td>\n",
       "      <td>(409647.798, 412031.361](3406571.575, 3408329....</td>\n",
       "      <td>(409718.164, 417579.349](3393567.88, 3480582.442]</td>\n",
       "      <td>ae8221abe491455c7c0bedb0f00d6e8a</td>\n",
       "    </tr>\n",
       "  </tbody>\n",
       "</table>\n",
       "</div>"
      ],
      "text/plain": [
       "                           order_id  ride_start_timestamp  \\\n",
       "0  39d471630d26439111a7746d164d34eb            1478091677   \n",
       "1  6681082cbcc11b37842489a096e2172e            1478093722   \n",
       "2  56728c3d9555a452307d47986a773d9d            1478081351   \n",
       "3  5b2724a9fd290d0388264fe07a9aec4c            1478082542   \n",
       "4  0a2055d9c863e2f1963856d4d305ccd9            1478078909   \n",
       "\n",
       "   ride_stop_timestamp  pickup_longitude  pickup_latitude  dropoff_longitude  \\\n",
       "0           1478092890        104.008160        30.706220         104.064147   \n",
       "1           1478094806        104.053993        30.684104         104.015670   \n",
       "2           1478082003        104.068120        30.708790         104.049720   \n",
       "3           1478083418        104.059534        30.696013         104.034630   \n",
       "4           1478080807        104.079048        30.796888         104.083284   \n",
       "\n",
       "   dropoff_latitude        xpickup       ypickup       xdropoff      ydropoff  \\\n",
       "0         30.685848  405021.620476  3.397464e+06  410364.332827  3.395160e+06   \n",
       "1         30.633230  409390.115174  3.394975e+06  405669.915408  3.389369e+06   \n",
       "2         30.704970  410765.994637  3.397700e+06  409000.403342  3.397291e+06   \n",
       "3         30.720960  409931.921294  3.396291e+06  407570.558398  3.399076e+06   \n",
       "4         30.705019  411892.725646  3.407455e+06  412214.698706  3.397270e+06   \n",
       "\n",
       "                                        pick_up_zone  \\\n",
       "0  (404880.67, 407264.234](3396021.364, 3397779.732]   \n",
       "1  (407264.234, 409647.798](3394262.995, 3396021....   \n",
       "2  (409647.798, 412031.361](3396021.364, 3397779....   \n",
       "3  (409647.798, 412031.361](3396021.364, 3397779....   \n",
       "4  (409647.798, 412031.361](3406571.575, 3408329....   \n",
       "\n",
       "                                       drop_off_zone  \\\n",
       "0  (409718.164, 417579.349](3393567.88, 3480582.442]   \n",
       "1   (401856.98, 409718.164](3306553.319, 3393567.88]   \n",
       "2   (401856.98, 409718.164](3393567.88, 3480582.442]   \n",
       "3   (401856.98, 409718.164](3393567.88, 3480582.442]   \n",
       "4  (409718.164, 417579.349](3393567.88, 3480582.442]   \n",
       "\n",
       "                          driver_id  \n",
       "0  af17fba73f06db61f7596163eac1eb73  \n",
       "1  af17fba73f06db61f7596163eac1eb73  \n",
       "2  ae8221abe491455c7c0bedb0f00d6e8a  \n",
       "3  ae8221abe491455c7c0bedb0f00d6e8a  \n",
       "4  ae8221abe491455c7c0bedb0f00d6e8a  "
      ]
     },
     "execution_count": 135,
     "metadata": {},
     "output_type": "execute_result"
    }
   ],
   "source": [
    "order_data.head()"
   ]
  },
  {
   "cell_type": "code",
   "execution_count": 146,
   "metadata": {},
   "outputs": [
    {
     "data": {
      "text/plain": [
       "453"
      ]
     },
     "execution_count": 146,
     "metadata": {},
     "output_type": "execute_result"
    }
   ],
   "source": [
    "len(order_data['pick_up_zone'].unique())"
   ]
  },
  {
   "cell_type": "code",
   "execution_count": 182,
   "metadata": {},
   "outputs": [],
   "source": [
    "temp = order_data.groupby(['driver_id', 'pick_up_zone']).count()/ order_data.groupby(['driver_id']).count()"
   ]
  },
  {
   "cell_type": "code",
   "execution_count": 183,
   "metadata": {},
   "outputs": [],
   "source": [
    "temp = temp['order_id']"
   ]
  },
  {
   "cell_type": "code",
   "execution_count": 184,
   "metadata": {},
   "outputs": [
    {
     "data": {
      "text/plain": [
       "driver_id                         pick_up_zone                                      \n",
       "000203e2b9574dec0f9e22e1471d7343  (404880.67, 407264.234](3410088.312, 3411846.681]     1.0\n",
       "00020e3d875210ba7b86de9a17a969d9  (407264.234, 409647.798](3388987.889, 3390746.258]    0.4\n",
       "                                  (409647.798, 412031.361](3392504.627, 3394262.995]    0.2\n",
       "                                  (412031.361, 414414.925](3388987.889, 3390746.258]    0.4\n",
       "0002a9da2932f75a1d5f12fc99ea9945  (409647.798, 412031.361](3392504.627, 3394262.995]    0.3\n",
       "Name: order_id, dtype: float64"
      ]
     },
     "execution_count": 184,
     "metadata": {},
     "output_type": "execute_result"
    }
   ],
   "source": [
    "temp.head()"
   ]
  },
  {
   "cell_type": "code",
   "execution_count": 169,
   "metadata": {},
   "outputs": [
    {
     "data": {
      "text/plain": [
       "driver_id                         pick_up_zone                                      \n",
       "000203e2b9574dec0f9e22e1471d7343  (404880.67, 407264.234](3410088.312, 3411846.681]     1\n",
       "00020e3d875210ba7b86de9a17a969d9  (407264.234, 409647.798](3388987.889, 3390746.258]    2\n",
       "                                  (409647.798, 412031.361](3392504.627, 3394262.995]    1\n",
       "                                  (412031.361, 414414.925](3388987.889, 3390746.258]    2\n",
       "0002a9da2932f75a1d5f12fc99ea9945  (409647.798, 412031.361](3392504.627, 3394262.995]    6\n",
       "Name: order_id, dtype: int64"
      ]
     },
     "execution_count": 169,
     "metadata": {},
     "output_type": "execute_result"
    }
   ],
   "source": [
    "temp.head()"
   ]
  },
  {
   "cell_type": "code",
   "execution_count": null,
   "metadata": {},
   "outputs": [],
   "source": []
  }
 ],
 "metadata": {
  "kernelspec": {
   "display_name": "Python 3",
   "language": "python",
   "name": "python3"
  },
  "language_info": {
   "codemirror_mode": {
    "name": "ipython",
    "version": 3
   },
   "file_extension": ".py",
   "mimetype": "text/x-python",
   "name": "python",
   "nbconvert_exporter": "python",
   "pygments_lexer": "ipython3",
   "version": "3.7.3"
  }
 },
 "nbformat": 4,
 "nbformat_minor": 2
}
